{
  "nbformat": 4,
  "nbformat_minor": 0,
  "metadata": {
    "colab": {
      "provenance": []
    },
    "kernelspec": {
      "name": "python3",
      "display_name": "Python 3"
    },
    "language_info": {
      "name": "python"
    }
  },
  "cells": [
    {
      "cell_type": "code",
      "execution_count": null,
      "metadata": {
        "id": "14k7UdyspD99"
      },
      "outputs": [],
      "source": [
        "# Naive Bayes\n",
        "\n",
        "# Importing libraries\n",
        "import numpy as np\n",
        "import pandas as pd\n",
        "import matplotlib.pyplot as plt\n",
        "\n",
        "# Importing dataset\n",
        "dataset = pd.read_csv(\"Customer List.csv\")\n",
        "X = dataset.iloc[:, [2,3]].values\n",
        "Y = dataset.iloc[:, 4].values\n",
        "\n",
        "# Split dataset into train and test set\n",
        "from sklearn.model_selection import train_test_split\n",
        "X_train, X_test, Y_train, Y_test = train_test_split(X,Y,test_size=0.25,random_state=0)\n",
        "\n",
        "# Feature Scaling\n",
        "from sklearn.preprocessing import StandardScaler\n",
        "sc = StandardScaler()\n",
        "X_train = sc.fit_transform(X_train)\n",
        "X_test = sc.transform(X_test)\n",
        "\n",
        "# Fitting Naive Bayes Algorithm to Training set\n",
        "from sklearn.naive_bayes import GaussianNB  #from sklearn.naive_bayes import BernoulliNB  #from sklearn.naive_bayes import MultinomialNB\n",
        "classifier = GaussianNB()\n",
        "classifier.fit(X_train, Y_train)\n",
        "\n",
        "# Predicting Test set results\n",
        "Y_pred = classifier.predict(X_test)\n",
        "\n",
        "# Confusion Matrix\n",
        "from sklearn.metrics import confusion_matrix\n",
        "cm = confusion_matrix(Y_test, Y_pred)\n"
      ]
    }
  ]
}